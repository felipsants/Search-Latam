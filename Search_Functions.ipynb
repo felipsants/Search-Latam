{
 "cells": [
  {
   "metadata": {},
   "cell_type": "markdown",
   "source": "## Imports",
   "id": "19f13d732f4200ac"
  },
  {
   "cell_type": "code",
   "id": "initial_id",
   "metadata": {
    "collapsed": true,
    "ExecuteTime": {
     "end_time": "2024-08-01T23:42:50.043587Z",
     "start_time": "2024-08-01T23:42:50.033865Z"
    }
   },
   "source": [
    "import locale\n",
    "from datetime import datetime"
   ],
   "outputs": [],
   "execution_count": 2
  },
  {
   "metadata": {},
   "cell_type": "markdown",
   "source": "## Receber Parâmetros",
   "id": "b9d1c2efddfab4fb"
  },
  {
   "metadata": {
    "ExecuteTime": {
     "end_time": "2024-08-02T00:23:29.395324Z",
     "start_time": "2024-08-02T00:23:12.242750Z"
    }
   },
   "cell_type": "code",
   "source": [
    "local_partida = input(\"Partida: \")\n",
    "local_destino = input(\"Destino: \")\n",
    "data_partida = input(\"Data de Ida, formato da data DD-MM-YYYY: \")\n",
    "data_volta = input(\"Data de volta, formato da data DD-MM-YYYY: \")\n"
   ],
   "id": "ab269eb8b8bc3403",
   "outputs": [],
   "execution_count": 8
  },
  {
   "metadata": {},
   "cell_type": "markdown",
   "source": "## Função para Retornar dia da Semana",
   "id": "741ab01b1d713781"
  },
  {
   "metadata": {
    "ExecuteTime": {
     "end_time": "2024-08-02T00:27:26.290698Z",
     "start_time": "2024-08-02T00:27:26.272996Z"
    }
   },
   "cell_type": "code",
   "source": [
    "# Definir o local para português\n",
    "locale.setlocale(locale.LC_TIME, \"pt_BR.UTF-8\")\n",
    "\n",
    "#Pegando data Atual\n",
    "agora = datetime.now()\n",
    "data_atual = agora.strftime(\"%d-%m-%Y\")\n",
    "\n",
    "# Converter a string para um objeto datetime\n",
    "data_ida_datetime = datetime.strptime(data_partida,\"%d-%m-%Y\")\n",
    "data_volta_datetime = datetime.strptime(data_volta,\"%d-%m-%Y\")\n",
    "\n",
    "# Obter datas da ida\n",
    "dia_da_semana_ida = data_ida_datetime.strftime(\"%A\")\n",
    "mes_ida = data_ida_datetime.strftime(\"%B\")\n",
    "dia_data_ida = data_ida_datetime.strftime(\"%d\")\n",
    "ano_ida = data_ida_datetime.strftime(\"%Y\")\n",
    "\n",
    "# Obter datas da ida\n",
    "dia_da_semana_volta = data_volta_datetime.strftime(\"%A\")\n",
    "mes_volta = data_volta_datetime.strftime(\"%B\")\n",
    "dia_data_volta = data_volta_datetime.strftime(\"%d\")\n",
    "ano_volta = data_volta_datetime.strftime(\"%Y\")\n",
    "\n",
    "\n",
    "# Corrigir o nome do dia da semana e mês\n",
    "dia_da_semana_ida = dia_da_semana_ida.encode('latin1', 'replace').decode('utf8').capitalize()\n",
    "mes_ida = mes_ida.encode('latin1', 'replace').decode('utf8')\n",
    "dia_da_semana_volta = dia_da_semana_volta.encode('latin1', 'replace').decode('utf8').capitalize()\n",
    "mes_volta = mes_volta.encode('latin1', 'replace').decode('utf8').capitalize()\n",
    "\n",
    "dia_data_ida"
   ],
   "id": "a97466b2907c1c85",
   "outputs": [
    {
     "data": {
      "text/plain": [
       "'06'"
      ]
     },
     "execution_count": 14,
     "metadata": {},
     "output_type": "execute_result"
    }
   ],
   "execution_count": 14
  }
 ],
 "metadata": {
  "kernelspec": {
   "display_name": "Python 3",
   "language": "python",
   "name": "python3"
  },
  "language_info": {
   "codemirror_mode": {
    "name": "ipython",
    "version": 2
   },
   "file_extension": ".py",
   "mimetype": "text/x-python",
   "name": "python",
   "nbconvert_exporter": "python",
   "pygments_lexer": "ipython2",
   "version": "2.7.6"
  }
 },
 "nbformat": 4,
 "nbformat_minor": 5
}
