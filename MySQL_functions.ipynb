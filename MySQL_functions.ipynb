{
 "cells": [
  {
   "metadata": {},
   "cell_type": "markdown",
   "source": "## Fazendo os Imports",
   "id": "13a6682dc29abffd"
  },
  {
   "cell_type": "code",
   "id": "initial_id",
   "metadata": {
    "collapsed": true,
    "ExecuteTime": {
     "end_time": "2024-08-01T23:20:50.485588Z",
     "start_time": "2024-08-01T23:20:50.397400Z"
    }
   },
   "source": [
    "import mysql.connector\n",
    "from mysql.connector import Error"
   ],
   "outputs": [],
   "execution_count": 1
  },
  {
   "metadata": {},
   "cell_type": "markdown",
   "source": "## Função Connect",
   "id": "b1c63285544a913d"
  },
  {
   "metadata": {
    "ExecuteTime": {
     "end_time": "2024-08-01T23:21:12.833569Z",
     "start_time": "2024-08-01T23:21:12.826439Z"
    }
   },
   "cell_type": "code",
   "source": [
    "def create_server_connection(host_name, user_name, user_password):\n",
    "    connection = None\n",
    "    try:\n",
    "        connection = mysql.connector.connect(\n",
    "            host=host_name,\n",
    "            user=user_name,\n",
    "            passwd=user_password\n",
    "        )\n",
    "        print(\"Connection established\")\n",
    "    except Error as err:\n",
    "        print(f\"Error: {err}\")\n",
    "        \n",
    "    return connection"
   ],
   "id": "3a30c259bc37e8da",
   "outputs": [],
   "execution_count": 2
  },
  {
   "metadata": {},
   "cell_type": "markdown",
   "source": "## Realizando Conexão",
   "id": "1a1b6d992752caee"
  },
  {
   "metadata": {
    "ExecuteTime": {
     "end_time": "2024-08-01T23:21:37.269571Z",
     "start_time": "2024-08-01T23:21:33.238392Z"
    }
   },
   "cell_type": "code",
   "source": [
    "pw = input(\"Enter your password: \")\n",
    "connection = create_server_connection(\"localhost\",\"root\",pw)"
   ],
   "id": "b8c299a7b3e07669",
   "outputs": [
    {
     "name": "stdout",
     "output_type": "stream",
     "text": [
      "Connection established\n"
     ]
    }
   ],
   "execution_count": 3
  },
  {
   "metadata": {},
   "cell_type": "markdown",
   "source": "## Função para criar Banco de Dados",
   "id": "be7bdbdceebcff47"
  },
  {
   "metadata": {
    "ExecuteTime": {
     "end_time": "2024-08-01T23:21:54.650716Z",
     "start_time": "2024-08-01T23:21:54.641575Z"
    }
   },
   "cell_type": "code",
   "source": [
    "def create_DataBase(connection, query):\n",
    "    cursor = connection.cursor()\n",
    "    try:\n",
    "        cursor.execute(query)\n",
    "        print(\"Database created successfully\")\n",
    "    except Error as err:\n",
    "        print(f\"Error: {err}\")"
   ],
   "id": "e2e7fc145b28ef2e",
   "outputs": [],
   "execution_count": 4
  },
  {
   "metadata": {},
   "cell_type": "markdown",
   "source": "## Executando a Query",
   "id": "c43dd68f06e5ba08"
  },
  {
   "metadata": {
    "ExecuteTime": {
     "end_time": "2024-08-01T23:22:18.087832Z",
     "start_time": "2024-08-01T23:22:18.070376Z"
    }
   },
   "cell_type": "code",
   "source": [
    "create_database_query = \" CREATE DATABASE IF NOT EXISTS precos\"\n",
    "create_DataBase(connection, create_database_query)"
   ],
   "id": "cfe5b5719bb05017",
   "outputs": [
    {
     "name": "stdout",
     "output_type": "stream",
     "text": [
      "Database created successfully\n"
     ]
    }
   ],
   "execution_count": 5
  },
  {
   "metadata": {},
   "cell_type": "markdown",
   "source": "## Função para conectar ao Banco de Dados especifico",
   "id": "11b997317d01d8d"
  },
  {
   "metadata": {
    "ExecuteTime": {
     "end_time": "2024-08-01T23:27:01.673357Z",
     "start_time": "2024-08-01T23:27:01.663780Z"
    }
   },
   "cell_type": "code",
   "source": [
    "def create_db_connection(host_name, user_name, user_password, db_name):\n",
    "    connection = None\n",
    "    try:\n",
    "        connection = mysql.connector.connect(\n",
    "            host=host_name,\n",
    "            user=user_name,\n",
    "            passwd=user_password,\n",
    "            database=db_name\n",
    "        )\n",
    "        print(\"Connection established\")\n",
    "    except Error as err:\n",
    "        print(f\"Error: {err}\")\n",
    "        \n",
    "    return connection"
   ],
   "id": "39567b8b67ade5a7",
   "outputs": [],
   "execution_count": 7
  },
  {
   "metadata": {},
   "cell_type": "markdown",
   "source": "## Função para executar as consultas",
   "id": "cca16becb2d2586c"
  },
  {
   "metadata": {
    "ExecuteTime": {
     "end_time": "2024-08-01T23:27:20.778659Z",
     "start_time": "2024-08-01T23:27:20.770407Z"
    }
   },
   "cell_type": "code",
   "source": [
    "def execute_query(connection, query):\n",
    "    cursor = connection.cursor()\n",
    "    try:\n",
    "        cursor.execute(query)\n",
    "        connection.commit()\n",
    "        print(\"Query executed successfully\")\n",
    "    except Error as err:\n",
    "        print(f\"Error: {err}\")"
   ],
   "id": "5451d5efa137dc80",
   "outputs": [],
   "execution_count": 8
  },
  {
   "metadata": {},
   "cell_type": "markdown",
   "source": "## Criar Tabela",
   "id": "851f92fea42bf3e0"
  },
  {
   "metadata": {
    "ExecuteTime": {
     "end_time": "2024-08-01T23:27:37.837381Z",
     "start_time": "2024-08-01T23:27:37.796880Z"
    }
   },
   "cell_type": "code",
   "source": [
    "create_voos_table = \"\"\"\n",
    "CREATE TABLE IF NOT EXISTS voos (\n",
    "    voo_id INT AUTO_INCREMENT PRIMARY KEY,\n",
    "    partida VARCHAR(20) NOT NULL,\n",
    "    destino VARCHAR(20) NOT NULL,\n",
    "    data_de_ida DATE,\n",
    "    data_de_votta DATE,\n",
    "    passageiros INT NOT NULL,\n",
    "    preco FLOAT NOT NULL,\n",
    "    hora_de_partida TIME NOT NULL,\n",
    "    hora_de_chegada TIME NOT NULL\n",
    "    );\"\"\"\n",
    "\n",
    "connection = create_db_connection(\"localhost\", \"root\", pw, 'precos')\n",
    "execute_query(connection, create_voos_table)\n"
   ],
   "id": "a98c386e22d97c5e",
   "outputs": [
    {
     "name": "stdout",
     "output_type": "stream",
     "text": [
      "Connection established\n",
      "Query executed successfully\n"
     ]
    }
   ],
   "execution_count": 9
  }
 ],
 "metadata": {
  "kernelspec": {
   "display_name": "Python 3",
   "language": "python",
   "name": "python3"
  },
  "language_info": {
   "codemirror_mode": {
    "name": "ipython",
    "version": 2
   },
   "file_extension": ".py",
   "mimetype": "text/x-python",
   "name": "python",
   "nbconvert_exporter": "python",
   "pygments_lexer": "ipython2",
   "version": "2.7.6"
  }
 },
 "nbformat": 4,
 "nbformat_minor": 5
}
