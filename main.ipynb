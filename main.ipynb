{
 "cells": [
  {
   "metadata": {},
   "cell_type": "markdown",
   "source": "## Imports",
   "id": "19f13d732f4200ac"
  },
  {
   "cell_type": "code",
   "id": "initial_id",
   "metadata": {
    "collapsed": true,
    "ExecuteTime": {
     "end_time": "2024-08-03T01:35:59.841146Z",
     "start_time": "2024-08-03T01:35:59.827498Z"
    }
   },
   "source": [
    "import locale\n",
    "from datetime import datetime\n",
    "from selenium import webdriver\n",
    "from selenium.webdriver.common.by import By\n",
    "from selenium.webdriver.support.ui import WebDriverWait\n",
    "from selenium.webdriver.support import expected_conditions as EC\n",
    "import time\n",
    "from dateutil.relativedelta import relativedelta"
   ],
   "outputs": [],
   "execution_count": 207
  },
  {
   "metadata": {},
   "cell_type": "markdown",
   "source": "## Receber Parâmetros",
   "id": "b9d1c2efddfab4fb"
  },
  {
   "metadata": {
    "ExecuteTime": {
     "end_time": "2024-08-03T01:36:49.347813Z",
     "start_time": "2024-08-03T01:36:00.017499Z"
    }
   },
   "cell_type": "code",
   "source": [
    "local_partida = input(\"Partida: \")\n",
    "local_destino = input(\"Destino: \")\n",
    "data_partida = input(\"Data de Ida, formato da data DD-MM-YYYY: \")\n",
    "data_volta = input(\"Data de volta, formato da data DD-MM-YYYY: \")\n"
   ],
   "id": "ab269eb8b8bc3403",
   "outputs": [],
   "execution_count": 208
  },
  {
   "metadata": {},
   "cell_type": "markdown",
   "source": "## Função para Retornar dia da Semana",
   "id": "741ab01b1d713781"
  },
  {
   "metadata": {
    "ExecuteTime": {
     "end_time": "2024-08-03T01:36:49.394972Z",
     "start_time": "2024-08-03T01:36:49.357935Z"
    }
   },
   "cell_type": "code",
   "source": [
    "# Definir o local para português\n",
    "locale.setlocale(locale.LC_TIME, \"pt_BR.UTF-8\")\n",
    "\n",
    "#Pegando data Atual\n",
    "agora = datetime.now()\n",
    "data_atual = agora.strftime(\"%d-%m-%Y\")\n",
    "\n",
    "# Converter a string para um objeto datetime\n",
    "data_ida_datetime = datetime.strptime(data_partida,\"%d-%m-%Y\")\n",
    "data_volta_datetime = datetime.strptime(data_volta,\"%d-%m-%Y\")\n",
    "\n",
    "# Obter datas da ida\n",
    "dia_da_semana_ida = data_ida_datetime.strftime(\"%A\")\n",
    "mes_ida = data_ida_datetime.strftime(\"%B\")\n",
    "dia_data_ida = data_ida_datetime.day\n",
    "ano_ida = data_ida_datetime.strftime(\"%Y\")\n",
    "\n",
    "# Obter datas da ida\n",
    "dia_da_semana_volta = data_volta_datetime.strftime(\"%A\")\n",
    "mes_volta = data_volta_datetime.strftime(\"%B\")\n",
    "dia_data_volta = data_volta_datetime.day\n",
    "ano_volta = data_volta_datetime.strftime(\"%Y\")\n",
    "\n",
    "\n",
    "# Corrigir o nome do dia da semana e mês\n",
    "dia_da_semana_ida = dia_da_semana_ida.encode('latin1', 'replace').decode('utf8').capitalize()\n",
    "mes_ida = mes_ida.encode('latin1', 'replace').decode('utf8')\n",
    "dia_da_semana_volta = dia_da_semana_volta.encode('latin1', 'replace').decode('utf8').capitalize()\n",
    "mes_volta = mes_volta.encode('latin1', 'replace').decode('utf8')\n",
    "\n",
    "dia_data_ida"
   ],
   "id": "a97466b2907c1c85",
   "outputs": [
    {
     "data": {
      "text/plain": [
       "4"
      ]
     },
     "execution_count": 209,
     "metadata": {},
     "output_type": "execute_result"
    }
   ],
   "execution_count": 209
  },
  {
   "metadata": {},
   "cell_type": "markdown",
   "source": "## Inicializando WebDriver",
   "id": "42a2efee205c638d"
  },
  {
   "metadata": {
    "ExecuteTime": {
     "end_time": "2024-08-03T01:37:10.931436Z",
     "start_time": "2024-08-03T01:36:49.406618Z"
    }
   },
   "cell_type": "code",
   "source": [
    "driver = webdriver.Chrome()\n",
    "driver.get(\"https://www.latamairlines.com/br/pt\")\n",
    "time.sleep(0.5)"
   ],
   "id": "3b451329989f148e",
   "outputs": [],
   "execution_count": 210
  },
  {
   "metadata": {},
   "cell_type": "markdown",
   "source": "## Aceitando Cookies\n",
   "id": "8cf0521fb7b6205"
  },
  {
   "metadata": {
    "ExecuteTime": {
     "end_time": "2024-08-03T01:37:12.392501Z",
     "start_time": "2024-08-03T01:37:10.937694Z"
    }
   },
   "cell_type": "code",
   "source": [
    "driver.find_element(By.ID,'cookies-politics-button').click()\n",
    "time.sleep(1)"
   ],
   "id": "db496eb5bd0fe868",
   "outputs": [],
   "execution_count": 211
  },
  {
   "metadata": {},
   "cell_type": "markdown",
   "source": "## Insirindo Local de ida, volta e clicar no botão dd data de ida",
   "id": "dab7e8210440c995"
  },
  {
   "metadata": {
    "ExecuteTime": {
     "end_time": "2024-08-03T01:37:16.659650Z",
     "start_time": "2024-08-03T01:37:12.401358Z"
    }
   },
   "cell_type": "code",
   "source": [
    "driver.find_element(By.ID, 'txtInputOrigin_field').send_keys(f\"{local_partida}\")\n",
    "driver.implicitly_wait(4)\n",
    "driver.find_element(By.ID, 'btnItemAutoComplete_0').click()\n",
    "driver.implicitly_wait(4)\n",
    "driver.find_element(By.ID, 'txtInputDestination_field').send_keys(f\"{local_destino}\")\n",
    "driver.implicitly_wait(4)\n",
    "driver.find_element(By.ID, 'btnItemAutoComplete_0').click()\n",
    "time.sleep(1)\n",
    "driver.find_element(By.ID, 'departureDate').click()\n",
    "time.sleep(1)"
   ],
   "id": "defd3eff1068b883",
   "outputs": [],
   "execution_count": 212
  },
  {
   "metadata": {},
   "cell_type": "markdown",
   "source": "## Verificar qual data de partida e selecionar",
   "id": "6b8d27d6ca7718c9"
  },
  {
   "metadata": {},
   "cell_type": "markdown",
   "source": "Data máxima que pode ser visualizada de uma única vez no site da Latam",
   "id": "c7faaf371e3c2e7b"
  },
  {
   "metadata": {
    "ExecuteTime": {
     "end_time": "2024-08-03T01:37:16.682889Z",
     "start_time": "2024-08-03T01:37:16.664766Z"
    }
   },
   "cell_type": "code",
   "source": [
    "data = datetime.strptime(data_atual,\"%d-%m-%Y\")\n",
    "meses_add = 2\n",
    "\n",
    "data_max = data + relativedelta(months=meses_add)\n",
    "\n",
    "data_max = data_max.strftime(\"%d-%m-%Y\")\n",
    "aux_data_max = datetime.strptime(data_max,\"%d-%m-%Y\")"
   ],
   "id": "4918a775cfb6ecfe",
   "outputs": [],
   "execution_count": 213
  },
  {
   "metadata": {},
   "cell_type": "markdown",
   "source": "Função para comparar datas e clicar no botão para avançar os meses no site, caso precise.",
   "id": "83db4063a195a446"
  },
  {
   "metadata": {
    "ExecuteTime": {
     "end_time": "2024-08-03T01:37:21.255460Z",
     "start_time": "2024-08-03T01:37:16.689694Z"
    }
   },
   "cell_type": "code",
   "source": [
    "aux_data_partida = datetime.strptime(data_partida,\"%d-%m-%Y\")\n",
    "aux_data_volta = datetime.strptime(data_volta,\"%d-%m-%Y\")\n",
    "\n",
    "def comparar_datas(aux_data_partida, aux_data_max):\n",
    "    return (aux_data_partida) > (aux_data_max)\n",
    "\n",
    "while comparar_datas(aux_data_partida, aux_data_max):\n",
    "    driver.find_element(By.XPATH, \"/html/body/div[1]/div/div[2]/div/div/div/div/div/div[2]/div/div/div/div/div/div/div/div/div/div/div/div[2]/div[1]/div[2]\").click()\n",
    "    time.sleep(0.5)\n",
    "    aux_data_max += relativedelta(months=1)"
   ],
   "id": "b04308484767a36e",
   "outputs": [],
   "execution_count": 214
  },
  {
   "metadata": {},
   "cell_type": "markdown",
   "source": "## Clicar na data de Ida",
   "id": "85798bc6a87d8d8b"
  },
  {
   "metadata": {
    "ExecuteTime": {
     "end_time": "2024-08-03T01:37:22.044861Z",
     "start_time": "2024-08-03T01:37:21.264371Z"
    }
   },
   "cell_type": "code",
   "source": [
    "driver.find_element(By.CSS_SELECTOR, f'[aria-label=\"Escolha {dia_da_semana_ida}, {dia_data_ida} de {mes_ida} de {ano_ida} como sua data de ida. Está disponível.\"]').click()\n",
    "time.sleep(0.5)"
   ],
   "id": "29b4cd9361823230",
   "outputs": [],
   "execution_count": 215
  },
  {
   "metadata": {},
   "cell_type": "markdown",
   "source": "## Clicar na data de volta",
   "id": "8409802593ee3532"
  },
  {
   "metadata": {
    "ExecuteTime": {
     "end_time": "2024-08-03T01:37:23.035719Z",
     "start_time": "2024-08-03T01:37:22.050417Z"
    }
   },
   "cell_type": "code",
   "source": [
    "driver.find_element(By.ID, 'arrivalDate').click()\n",
    "time.sleep(0.5)\n",
    "\n",
    "while comparar_datas(aux_data_volta, aux_data_max):\n",
    "    driver.find_element(By.XPATH, \"/html/body/div[1]/div/div[2]/div/div/div/div/div/div[2]/div/div/div/div/div/div/div/div/div/div/div/div[2]/div[1]/div[2]\").click()\n",
    "    time.sleep(0.5)\n",
    "    aux_data_max += relativedelta(months=1)\n",
    "    \n",
    "driver.find_element(By.CSS_SELECTOR, f'[aria-label=\"Escolha {dia_da_semana_volta}, {dia_data_volta} de {mes_volta} de {ano_volta} como data de volta. Está disponível.\"]').click()"
   ],
   "id": "40d7f8e4ae4a8d7b",
   "outputs": [],
   "execution_count": 216
  },
  {
   "metadata": {},
   "cell_type": "markdown",
   "source": "## Guardando Handle original",
   "id": "9303657bbe2f22c4"
  },
  {
   "metadata": {
    "ExecuteTime": {
     "end_time": "2024-08-03T01:37:23.065881Z",
     "start_time": "2024-08-03T01:37:23.042375Z"
    }
   },
   "cell_type": "code",
   "source": [
    "janela_original = driver.current_window_handle\n",
    "janela_original"
   ],
   "id": "a5cfeade7cb6ab60",
   "outputs": [
    {
     "data": {
      "text/plain": [
       "'03FEB1F1C3F6F8A08BB6BCD7C2840BD7'"
      ]
     },
     "execution_count": 217,
     "metadata": {},
     "output_type": "execute_result"
    }
   ],
   "execution_count": 217
  },
  {
   "metadata": {},
   "cell_type": "markdown",
   "source": "## Clicar em Buscar",
   "id": "578436c29bd008b"
  },
  {
   "metadata": {
    "ExecuteTime": {
     "end_time": "2024-08-03T01:37:23.487253Z",
     "start_time": "2024-08-03T01:37:23.073170Z"
    }
   },
   "cell_type": "code",
   "source": "driver.find_element(By.ID,'btnSearchCTA').click()",
   "id": "917394dfefb8a9be",
   "outputs": [],
   "execution_count": 218
  }
 ],
 "metadata": {
  "kernelspec": {
   "display_name": "Python 3",
   "language": "python",
   "name": "python3"
  },
  "language_info": {
   "codemirror_mode": {
    "name": "ipython",
    "version": 2
   },
   "file_extension": ".py",
   "mimetype": "text/x-python",
   "name": "python",
   "nbconvert_exporter": "python",
   "pygments_lexer": "ipython2",
   "version": "2.7.6"
  }
 },
 "nbformat": 4,
 "nbformat_minor": 5
}
